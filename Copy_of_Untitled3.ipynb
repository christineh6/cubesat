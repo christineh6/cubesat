{
  "nbformat": 4,
  "nbformat_minor": 0,
  "metadata": {
    "colab": {
      "provenance": []
    },
    "kernelspec": {
      "name": "python3",
      "display_name": "Python 3"
    },
    "language_info": {
      "name": "python"
    }
  },
  "cells": [
    {
      "cell_type": "code",
      "execution_count": null,
      "metadata": {
        "colab": {
          "base_uri": "https://localhost:8080/"
        },
        "id": "MMQtUXBYmt7k",
        "outputId": "78d9ea68-475d-4473-ef7b-8c4ec0009fb5"
      },
      "outputs": [
        {
          "output_type": "stream",
          "name": "stdout",
          "text": [
            "05:00:00\n"
          ]
        }
      ],
      "source": [
        "import datetime as datetime\n",
        "\n",
        "print(datetime.time(5))"
      ]
    },
    {
      "cell_type": "code",
      "source": [
        "import time\n",
        "currenttime=datetime.datetime.now()\n",
        "x=currenttime.strftime(\"%H:%M:%S\")\n",
        "print(x)"
      ],
      "metadata": {
        "colab": {
          "base_uri": "https://localhost:8080/"
        },
        "id": "7H0weHLKn9a-",
        "outputId": "4deeb80c-6998-4d28-a6d1-d38e445ba0f5"
      },
      "execution_count": null,
      "outputs": [
        {
          "output_type": "stream",
          "name": "stdout",
          "text": [
            "19:36:09\n"
          ]
        }
      ]
    },
    {
      "cell_type": "code",
      "source": [
        "import pandas as pd"
      ],
      "metadata": {
        "id": "EbwtMiymrbtm"
      },
      "execution_count": null,
      "outputs": []
    },
    {
      "cell_type": "code",
      "source": [
        "EO88=pd.read_csv(\"/content/drive/MyDrive/Service/ISRA-2023/EO88.csv\")"
      ],
      "metadata": {
        "id": "IIZZp3LDrsWI"
      },
      "execution_count": null,
      "outputs": []
    },
    {
      "cell_type": "code",
      "source": [
        "one=EO88['OurTime'][0]\n",
        "print(one)"
      ],
      "metadata": {
        "colab": {
          "base_uri": "https://localhost:8080/"
        },
        "id": "bp1l_cB_rxCe",
        "outputId": "b7d79cfe-a62c-4543-fdc6-635a35c0130f"
      },
      "execution_count": null,
      "outputs": [
        {
          "output_type": "stream",
          "name": "stdout",
          "text": [
            "11:01 AM\n"
          ]
        }
      ]
    },
    {
      "cell_type": "code",
      "source": [
        "one=one.split(\" \")[0]\n",
        "print(one)\n"
      ],
      "metadata": {
        "colab": {
          "base_uri": "https://localhost:8080/"
        },
        "id": "EzQQ3tjzsHNn",
        "outputId": "3e0b956f-b848-44bf-eda8-ec8436347b54"
      },
      "execution_count": null,
      "outputs": [
        {
          "output_type": "stream",
          "name": "stdout",
          "text": [
            "11:01\n"
          ]
        }
      ]
    },
    {
      "cell_type": "code",
      "source": [
        "\n",
        "oneTime=datetime.strptime(one, \"%H:%M\")\n",
        "print(oneTime)\n",
        "print(datetime.time(oneTime))\n"
      ],
      "metadata": {
        "colab": {
          "base_uri": "https://localhost:8080/"
        },
        "id": "OJtVZKrQuGaZ",
        "outputId": "f51a0aa4-5b33-471f-c1b8-e8e691ada612"
      },
      "execution_count": null,
      "outputs": [
        {
          "output_type": "stream",
          "name": "stdout",
          "text": [
            "1900-01-01 11:01:00\n",
            "11:01:00\n"
          ]
        }
      ]
    },
    {
      "cell_type": "code",
      "source": [
        "for i in range(0,103):\n",
        "   aTime=EO88['OurTime'][i]\n",
        "   aTime=aTime.split(\" \")[0]\n",
        "   aTime=datetime.strptime(aTime, \"%H:%M\")\n",
        "   aTime=datetime.time(aTime)\n",
        "   EO88['OurTime'][i]=aTime\n",
        "\n"
      ],
      "metadata": {
        "id": "btt1oM2Bvgc0"
      },
      "execution_count": null,
      "outputs": []
    }
  ]
}